{
 "cells": [
  {
   "cell_type": "code",
   "execution_count": 143,
   "metadata": {},
   "outputs": [],
   "source": [
    "import dspy\n",
    "import os\n",
    "import base64\n",
    "import requests\n",
    "from PIL import Image\n",
    "from io import BytesIO\n",
    "from openai import OpenAI\n",
    "from pdf2image import convert_from_path"
   ]
  },
  {
   "cell_type": "code",
   "execution_count": 144,
   "metadata": {},
   "outputs": [],
   "source": [
    "#convert pdf to base64 image for GPT input\n",
    "import base64\n",
    "from pdf2image import convert_from_path\n",
    "from io import BytesIO\n",
    "\n",
    "def pdf_to_base64_image(pdf_path, first_page=1, last_page=1, image_format='JPEG', quality=100):\n",
    "    # Convert the specified PDF pages to images\n",
    "    images = convert_from_path(pdf_path, first_page=first_page, last_page=last_page)\n",
    "    \n",
    "    # Convert the first image to base64\n",
    "    buffer = BytesIO()  # Create an in-memory buffer\n",
    "    images[0].save(buffer, format=image_format, quality=quality)  # Save the image to the buffer\n",
    "    buffer.seek(0)  # Reset buffer position to the start\n",
    "    \n",
    "    return base64.b64encode(buffer.read()).decode('utf-8')  # Encode to base64 and return"
   ]
  },
  {
   "cell_type": "code",
   "execution_count": 145,
   "metadata": {},
   "outputs": [],
   "source": [
    "# Call gpt to parse image\n",
    "def get_csv_tabel(contract_base64):\n",
    "  api_key = api_key=os.environ.get(\"OPENAI_API_KEY\")\n",
    "  headers = {\n",
    "    \"Content-Type\": \"application/json\",\n",
    "    \"Authorization\": f\"Bearer {api_key}\"\n",
    "  }\n",
    "\n",
    "  payload = {\n",
    "    \"model\": \"gpt-4o\",\n",
    "    \"messages\": [\n",
    "      {\n",
    "        \"role\": \"user\",\n",
    "        \"content\": [\n",
    "          {\n",
    "            \"type\": \"text\",\n",
    "            \"text\": \"Parse the image and extract the table. Specify the column names and return each row as a new line, with columns separated by a semicolon (';'). Only return the table without any additional text or explanation.\"\n",
    "          },\n",
    "          {\n",
    "            \"type\": \"image_url\",\n",
    "            \"image_url\": {\n",
    "              \"url\": f\"data:image/jpeg;base64,{contract_base64}\"\n",
    "            }\n",
    "          }\n",
    "        ]\n",
    "      }\n",
    "    ],\n",
    "    \"max_tokens\": 300\n",
    "  }\n",
    "\n",
    "  response = requests.post(\"https://api.openai.com/v1/chat/completions\", headers=headers, json=payload)\n",
    "  text = response.json()['choices'][0]['message']['content']\n",
    "\n",
    "  return text\n"
   ]
  },
  {
   "cell_type": "code",
   "execution_count": 140,
   "metadata": {},
   "outputs": [
    {
     "data": {
      "text/html": [
       "<div>\n",
       "<style scoped>\n",
       "    .dataframe tbody tr th:only-of-type {\n",
       "        vertical-align: middle;\n",
       "    }\n",
       "\n",
       "    .dataframe tbody tr th {\n",
       "        vertical-align: top;\n",
       "    }\n",
       "\n",
       "    .dataframe thead th {\n",
       "        text-align: right;\n",
       "    }\n",
       "</style>\n",
       "<table border=\"1\" class=\"dataframe\">\n",
       "  <thead>\n",
       "    <tr style=\"text-align: right;\">\n",
       "      <th></th>\n",
       "      <th>Aantal</th>\n",
       "      <th>Artikelcode</th>\n",
       "      <th>Kleur</th>\n",
       "      <th>Omschrijving</th>\n",
       "      <th>Bedrag</th>\n",
       "    </tr>\n",
       "  </thead>\n",
       "  <tbody>\n",
       "    <tr>\n",
       "      <th>0</th>\n",
       "      <td>1 st</td>\n",
       "      <td>VTVW</td>\n",
       "      <td>NaN</td>\n",
       "      <td>Begane grond, Vloertegels De vloertegels in wi...</td>\n",
       "      <td></td>\n",
       "    </tr>\n",
       "    <tr>\n",
       "      <th>1</th>\n",
       "      <td>1 st</td>\n",
       "      <td>VTB</td>\n",
       "      <td>NaN</td>\n",
       "      <td>De vloertegels Busy 706 invoegen</td>\n",
       "      <td></td>\n",
       "    </tr>\n",
       "    <tr>\n",
       "      <th>2</th>\n",
       "      <td>1 st</td>\n",
       "      <td>VIPL</td>\n",
       "      <td>NaN</td>\n",
       "      <td>Geen plintafwerking opgenomen tbv aansluiting ...</td>\n",
       "      <td></td>\n",
       "    </tr>\n",
       "    <tr>\n",
       "      <th>3</th>\n",
       "      <td>1 st</td>\n",
       "      <td>VTKEU</td>\n",
       "      <td>NaN</td>\n",
       "      <td>De vloertegels ook onder de keuken doorleggen</td>\n",
       "      <td></td>\n",
       "    </tr>\n",
       "    <tr>\n",
       "      <th>4</th>\n",
       "      <td>1 st</td>\n",
       "      <td>VTBOMR</td>\n",
       "      <td>NaN</td>\n",
       "      <td>De matrandomranding in hal rondom afwerken met...</td>\n",
       "      <td></td>\n",
       "    </tr>\n",
       "    <tr>\n",
       "      <th>5</th>\n",
       "      <td>61.80 m²</td>\n",
       "      <td>1442553</td>\n",
       "      <td>White</td>\n",
       "      <td>Vloertegels 250 x 1500 x 11 mm PorcST 250X1500...</td>\n",
       "      <td></td>\n",
       "    </tr>\n",
       "    <tr>\n",
       "      <th>6</th>\n",
       "      <td>46.8 m²</td>\n",
       "      <td>TVB099</td>\n",
       "      <td>NaN</td>\n",
       "      <td>Het aanbrengen van vloertegels hal, keuken of ...</td>\n",
       "      <td></td>\n",
       "    </tr>\n",
       "    <tr>\n",
       "      <th>7</th>\n",
       "      <td>1 st</td>\n",
       "      <td>NaN</td>\n",
       "      <td>NaN</td>\n",
       "      <td>NaN</td>\n",
       "      <td>NaN</td>\n",
       "    </tr>\n",
       "  </tbody>\n",
       "</table>\n",
       "</div>"
      ],
      "text/plain": [
       "     Aantal Artikelcode  Kleur  \\\n",
       "0      1 st        VTVW    NaN   \n",
       "1      1 st         VTB    NaN   \n",
       "2      1 st        VIPL    NaN   \n",
       "3      1 st       VTKEU    NaN   \n",
       "4      1 st      VTBOMR    NaN   \n",
       "5  61.80 m²     1442553  White   \n",
       "6   46.8 m²      TVB099    NaN   \n",
       "7      1 st         NaN    NaN   \n",
       "\n",
       "                                        Omschrijving Bedrag  \n",
       "0  Begane grond, Vloertegels De vloertegels in wi...         \n",
       "1                   De vloertegels Busy 706 invoegen         \n",
       "2  Geen plintafwerking opgenomen tbv aansluiting ...         \n",
       "3      De vloertegels ook onder de keuken doorleggen         \n",
       "4  De matrandomranding in hal rondom afwerken met...         \n",
       "5  Vloertegels 250 x 1500 x 11 mm PorcST 250X1500...         \n",
       "6  Het aanbrengen van vloertegels hal, keuken of ...         \n",
       "7                                                NaN    NaN  "
      ]
     },
     "execution_count": 140,
     "metadata": {},
     "output_type": "execute_result"
    }
   ],
   "source": [
    "# Convert image to structured output\n",
    "from io import StringIO\n",
    "import pandas as pd\n",
    "\n",
    "pdf_path = 'pdf/187716-1 Klantorder definitief.pdf'\n",
    "\n",
    "base64_image = pdf_to_base64_image(pdf_path, first_page=3, last_page=3)\n",
    "text = get_csv_tabel(base64_image)\n",
    "text = text.lstrip('```\\n')\n",
    "csv_data = StringIO(text)\n",
    "df = pd.read_csv(csv_data, delimiter=';')\n",
    "\n",
    "df"
   ]
  },
  {
   "cell_type": "markdown",
   "metadata": {},
   "source": [
    "## DSPy"
   ]
  },
  {
   "cell_type": "code",
   "execution_count": 154,
   "metadata": {},
   "outputs": [],
   "source": [
    "# Set up the LM\n",
    "gpt_4o = dspy.OpenAI(model='gpt-4o')\n",
    "dspy.settings.configure(lm=gpt_4o)"
   ]
  },
  {
   "cell_type": "code",
   "execution_count": 155,
   "metadata": {},
   "outputs": [],
   "source": [
    "class GenerateQuestion(dspy.Signature):\n",
    "    \"\"\"Generate a question that must be validated, based on the 'omschrijving' column of the first row.\"\"\"\n",
    "\n",
    "    table = dspy.InputField(desc=\"Table with 'omschrijving' column\")\n",
    "    question = dspy.OutputField(desc=\"a question that must be validated\")\n",
    "\n",
    "class ValidateQuestion(dspy.Signature):\n",
    "    \"\"\"Validate if the question can be answered\"\"\"\n",
    "\n",
    "    question = dspy.InputField(desc=\"a question\")\n",
    "    answer = dspy.OutputField(desc=\"yes or no\")"
   ]
  },
  {
   "cell_type": "code",
   "execution_count": 157,
   "metadata": {},
   "outputs": [],
   "source": [
    "class Questioner(dspy.Module):\n",
    "    def __init__(self):\n",
    "         super().__init__()\n",
    "         self.generate_questions = dspy.ChainOfThought(GenerateQuestion)\n",
    "\n",
    "    def forward(self, contract):\n",
    "         table = get_csv_tabel(contract)\n",
    "         question = self.generate_questions(table=table)\n",
    "\n",
    "         return question\n",
    "    \n",
    "class Validator(dspy.Module):\n",
    "    def __init__(self):\n",
    "         super().__init__()\n",
    "         self.validate_question = dspy.ChainOfThought(ValidateQuestion)\n",
    "\n",
    "    def forward(self, contract):\n",
    "         question = pred.question\n",
    "         answer = self.validate_question(question=question)\n",
    "\n",
    "         return answer"
   ]
  },
  {
   "cell_type": "code",
   "execution_count": 164,
   "metadata": {},
   "outputs": [
    {
     "name": "stdout",
     "output_type": "stream",
     "text": [
      "no\n"
     ]
    }
   ],
   "source": [
    "question_agent = Questioner()\n",
    "pred = question_agent(base64_image)\n",
    "\n",
    "validate_agent = Validator()\n",
    "val = validate_agent(pred.question)\n",
    "\n",
    "print(val.answer)"
   ]
  },
  {
   "cell_type": "code",
   "execution_count": 165,
   "metadata": {},
   "outputs": [
    {
     "name": "stdout",
     "output_type": "stream",
     "text": [
      "\n",
      "\n",
      "\n",
      "Validate if the question can be answered\n",
      "\n",
      "---\n",
      "\n",
      "Follow the following format.\n",
      "\n",
      "Question: a question\n",
      "Reasoning: Let's think step by step in order to ${produce the answer}. We ...\n",
      "Answer: yes or no\n",
      "\n",
      "---\n",
      "\n",
      "Question: Is there an attached drawing that clearly indicates the laying direction for processing the floor tiles in a random pattern as described?\n",
      "Reasoning: Let's think step by step in order to\u001b[32m produce the answer. We need to determine if there is an attached drawing that provides a clear indication of the laying direction for the floor tiles. Since the question specifically asks about the presence of an attached drawing, we need to check for any attachments or references to a drawing that accompanies the question. Without access to the actual content or context, we cannot verify the presence of such a drawing. Therefore, we cannot definitively answer the question based solely on the information provided.\n",
      "\n",
      "Answer: no\u001b[0m\n",
      "\n",
      "\n",
      "\n"
     ]
    },
    {
     "data": {
      "text/plain": [
       "\"\\n\\n\\nValidate if the question can be answered\\n\\n---\\n\\nFollow the following format.\\n\\nQuestion: a question\\nReasoning: Let's think step by step in order to ${produce the answer}. We ...\\nAnswer: yes or no\\n\\n---\\n\\nQuestion: Is there an attached drawing that clearly indicates the laying direction for processing the floor tiles in a random pattern as described?\\nReasoning: Let's think step by step in order to\\x1b[32m produce the answer. We need to determine if there is an attached drawing that provides a clear indication of the laying direction for the floor tiles. Since the question specifically asks about the presence of an attached drawing, we need to check for any attachments or references to a drawing that accompanies the question. Without access to the actual content or context, we cannot verify the presence of such a drawing. Therefore, we cannot definitively answer the question based solely on the information provided.\\n\\nAnswer: no\\x1b[0m\\n\\n\\n\""
      ]
     },
     "execution_count": 165,
     "metadata": {},
     "output_type": "execute_result"
    }
   ],
   "source": [
    "gpt_4o.inspect_history()"
   ]
  }
 ],
 "metadata": {
  "kernelspec": {
   "display_name": "Python 3",
   "language": "python",
   "name": "python3"
  },
  "language_info": {
   "codemirror_mode": {
    "name": "ipython",
    "version": 3
   },
   "file_extension": ".py",
   "mimetype": "text/x-python",
   "name": "python",
   "nbconvert_exporter": "python",
   "pygments_lexer": "ipython3",
   "version": "3.11.10"
  }
 },
 "nbformat": 4,
 "nbformat_minor": 2
}
